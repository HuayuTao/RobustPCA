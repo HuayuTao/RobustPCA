{
 "cells": [
  {
   "cell_type": "code",
   "execution_count": 14,
   "id": "3e83c98e",
   "metadata": {},
   "outputs": [],
   "source": [
    "import numpy as np\n",
    "from numpy.linalg import norm, svd\n",
    "\n",
    "def inexact_augmented_lagrange_multiplier(X, lmbda=0.01, tol=1e-3,\n",
    "                                          maxiter=100, verbose=True):\n",
    "    \"\"\"\n",
    "    Inexact Augmented Lagrange Multiplier\n",
    "    \"\"\"\n",
    "    Y = X\n",
    "    norm_two = norm(Y.ravel(), 2)\n",
    "    norm_inf = norm(Y.ravel(), np.inf) / lmbda\n",
    "    dual_norm = np.max([norm_two, norm_inf])\n",
    "    Y = Y / dual_norm\n",
    "    A = np.zeros(Y.shape)\n",
    "    E = np.zeros(Y.shape)\n",
    "    dnorm = norm(X, 'fro')\n",
    "    mu = 1.25 / norm_two\n",
    "    rho = 1.5\n",
    "    sv = 10.\n",
    "    n = Y.shape[0]\n",
    "    itr = 0\n",
    "    while True:\n",
    "        Eraw = X - A + (1 / mu) * Y\n",
    "        Eupdate = np.maximum(Eraw - lmbda / mu, 0) + np.minimum(Eraw + lmbda / mu, 0)\n",
    "        U, S, V = svd(X - Eupdate + (1 / mu) * Y, full_matrices=False)\n",
    "        svp = (S > 1 / mu).shape[0]\n",
    "        if svp < sv:\n",
    "            sv = np.min([svp + 1, n])\n",
    "        else:\n",
    "            sv = np.min([svp + round(.05 * n), n])\n",
    "        Aupdate = np.dot(np.dot(U[:, :svp], np.diag(S[:svp] - 1 / mu)), V[:svp, :])\n",
    "        A = Aupdate\n",
    "        E = Eupdate\n",
    "        Z = X - A - E\n",
    "        Y = Y + mu * Z\n",
    "        mu = np.min([mu * rho, mu * 1e7])\n",
    "        itr += 1\n",
    "        if ((norm(Z, 'fro') / dnorm) < tol) or (itr >= maxiter):\n",
    "            break\n",
    "    if verbose:\n",
    "        print(\"Finished at iteration %d\" % (itr))  \n",
    "    return A,E "
   ]
  },
  {
   "cell_type": "code",
   "execution_count": 15,
   "id": "05e7878f",
   "metadata": {},
   "outputs": [
    {
     "name": "stdout",
     "output_type": "stream",
     "text": [
      "Finished at iteration 3\n",
      "[[-0.50433791  0.50433791]\n",
      " [-0.28459249 -0.28459249]\n",
      " [-0.28459249 -0.28459249]\n",
      " [ 0.28459249  0.28459249]\n",
      " [ 0.28459249  0.28459249]\n",
      " [ 0.28459249  0.28459249]]\n",
      "[[-0.49566209  0.49566209]\n",
      " [-1.71540751 -0.71540751]\n",
      " [-2.71540751 -1.71540751]\n",
      " [ 0.71540751  0.71540751]\n",
      " [ 1.71540751  0.71540751]\n",
      " [ 2.71540751  1.71540751]]\n"
     ]
    }
   ],
   "source": [
    "X = np.array([[-1, 1], [-2, -1], [-3, -2], [1, 1], [2, 1], [3, 2]])\n",
    "A, E = inexact_augmented_lagrange_multiplier(X)\n",
    "print(A)\n",
    "print(E)"
   ]
  }
 ],
 "metadata": {
  "kernelspec": {
   "display_name": "Python 3",
   "language": "python",
   "name": "python3"
  },
  "language_info": {
   "codemirror_mode": {
    "name": "ipython",
    "version": 3
   },
   "file_extension": ".py",
   "mimetype": "text/x-python",
   "name": "python",
   "nbconvert_exporter": "python",
   "pygments_lexer": "ipython3",
   "version": "3.8.8"
  }
 },
 "nbformat": 4,
 "nbformat_minor": 5
}
